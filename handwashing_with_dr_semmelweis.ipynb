{
 "cells": [
  {
   "cell_type": "markdown",
   "metadata": {},
   "source": [
    "# WHEN DID WE REALIZE HAND WASHING WAS A GOOD IDEA?"
   ]
  },
  {
   "cell_type": "markdown",
   "metadata": {},
   "source": [
    "## SCRAPING DATA FROM THE WEB"
   ]
  },
  {
   "cell_type": "code",
   "execution_count": null,
   "metadata": {},
   "outputs": [],
   "source": [
    "\"\"\"\n",
    "A script for scraping and cleaning two websites for data which is\n",
    "used for a comparative analysis.\n",
    "\"\"\"\n",
    "\n",
    "import pandas as pd\n",
    "import scrape_wikipedia_for_table as scrape\n",
    "import matplotlib.pyplot as plt\n",
    "\n",
    "''' Scrape and clean yearly data from Wikipedia '''\n",
    "\n",
    "# Call function to scrape website and get html\n",
    "website = scrape.scraper('https://en.wikipedia.org/wiki/Ignaz_Semmelweis')\n",
    "\n",
    "# Find 'wikitable' class and 'tr' tag in html\n",
    "scraped_list = website.scrape('wikitable', 'tr')\n",
    "\n",
    "print(scraped_list)"
   ]
  },
  {
   "cell_type": "markdown",
   "metadata": {},
   "source": [
    "## DATA WRANGLING"
   ]
  },
  {
   "cell_type": "code",
   "execution_count": null,
   "metadata": {},
   "outputs": [],
   "source": [
    "# Put table data into dataframe\n",
    "wrangled_list = scrape.wrangle_list(scraped_list)\n",
    "\n",
    "print(wrangled_list)"
   ]
  },
  {
   "cell_type": "code",
   "execution_count": null,
   "metadata": {},
   "outputs": [],
   "source": [
    "# Remove trailing '/na' characters from dataframe elements\n",
    "scrape.remove_line_breaks(wrangled_list)\n",
    "\n",
    "print(wrangled_list)"
   ]
  },
  {
   "cell_type": "code",
   "execution_count": null,
   "metadata": {},
   "outputs": [],
   "source": [
    "# Remove ',' characters from elements in 'Births' column\n",
    "scrape.remove_comma(wrangled_list['Births'])\n",
    "\n",
    "# Change datatype of 'Year' column to date\n",
    "wrangled_list['Year'] = wrangled_list['Year'].apply(pd.to_datetime)\n",
    "\n",
    "# Change datatype of 'Births' and 'Deaths' columns to numeric\n",
    "wrangled_list[['Births', 'Deaths']] = wrangled_list[['Births', 'Deaths']].apply(pd.to_numeric)\n",
    "\n",
    "print(wrangled_list)"
   ]
  },
  {
   "cell_type": "markdown",
   "metadata": {},
   "source": [
    "## SCRAPING AND CLEANING THE MONTHLY DATA"
   ]
  },
  {
   "cell_type": "code",
   "execution_count": null,
   "metadata": {},
   "outputs": [],
   "source": [
    "''' Scrape and clean monthly data from Wikipedia '''\n",
    "\n",
    "# Call function to scrape website and get html\n",
    "website2 = scrape.scraper('https://en.wikipedia.org/wiki/Historical_mortality_rates_of_puerperal_fever')\n",
    "\n",
    "# Find 'wikitable sortable' class and 'tr' tag in html\n",
    "scraped_list2 = website2.scrape('wikitable sortable', 'tr')\n",
    "\n",
    "# Put table data into dataframe\n",
    "wrangled_list2 = scrape.wrangle_list2(scraped_list2)\n",
    "\n",
    "print(wrangled_list2)"
   ]
  },
  {
   "cell_type": "code",
   "execution_count": null,
   "metadata": {},
   "outputs": [],
   "source": [
    "# Remove trailing '/na' characters from dataframe elements\n",
    "scrape.remove_line_breaks(wrangled_list2)\n",
    "\n",
    "# Remove row with missing data\n",
    "wrangled_list2 = wrangled_list2[wrangled_list2['Births']!='na']\n",
    "\n",
    "# Change datatype of 'Year' column to date \n",
    "wrangled_list2['Year'] = wrangled_list2['Year'].apply(pd.to_datetime)\n",
    "\n",
    "# Change datatype of 'Births' and 'Deaths' columns to numeric\n",
    "wrangled_list2[['Births', 'Deaths']] = wrangled_list2[['Births', 'Deaths']].apply(pd.to_numeric)   \n",
    "\n",
    "# Reset index of dataframe\n",
    "wrangled_list2.reset_index(drop=True, inplace = True)\n",
    "\n",
    "print(wrangled_list2)"
   ]
  },
  {
   "cell_type": "markdown",
   "metadata": {},
   "source": [
    "## A DISTURBING FACT"
   ]
  },
  {
   "cell_type": "code",
   "execution_count": null,
   "metadata": {},
   "outputs": [],
   "source": [
    "# ''' Analyze yearly data '''\n",
    "\n",
    "# Calculate mortality rate\n",
    "wrangled_list['Mortality_Rate'] = wrangled_list['Deaths']/wrangled_list['Births']\n",
    "\n",
    "# Put clinic 1 data and clinic 2 into seperate variables\n",
    "yearly1 = wrangled_list[wrangled_list['Clinic']=='First']\n",
    "yearly2 = wrangled_list[wrangled_list['Clinic']=='Second']\n",
    "\n",
    "# Plot yearly mortality rates at the two clinics\n",
    "plot1 = yearly1.plot(x='Year', y='Mortality_Rate', label='Clinic 1')\n",
    "plot2 = yearly2.plot(x='Year', y='Mortality_Rate', label='Clinic 2', ax=plot1)\n",
    "plot2.set_ylabel('Mortality Rate (%)')\n",
    "\n",
    "plt.show()"
   ]
  },
  {
   "cell_type": "markdown",
   "metadata": {},
   "source": [
    "## A THEORY EMERGES"
   ]
  },
  {
   "cell_type": "code",
   "execution_count": null,
   "metadata": {},
   "outputs": [],
   "source": [
    "''' Analyze monthly data '''\n",
    "\n",
    "# Calculate proportion of deaths per no. births\n",
    "wrangled_list2[\"Mortality_Rate\"] = wrangled_list2[\"Deaths\"]/wrangled_list2[\"Births\"]\n",
    "\n",
    "# Put date when handwashing was made mandatory into variable\n",
    "handwashing_start = pd.to_datetime('1847-06-01')\n",
    "\n",
    "# Split monthly data into before and after handwashing\n",
    "before_washing = wrangled_list2[wrangled_list2[\"Year\"]<handwashing_start]\n",
    "after_washing = wrangled_list2[wrangled_list2[\"Year\"]>=handwashing_start]\n",
    "\n",
    "print(before_washing)\n",
    "print(after_washing)\n",
    "\n",
    "# Plot monthly mortality rate before and after handwashing\n",
    "ax = before_washing.plot(x='Year', y='Mortality_Rate', label='Before handwashing') \n",
    "after_washing.plot(x='Year', y='Mortality_Rate', label='After handwashing', ax=ax)\n",
    "ax.set_ylabel(\"Mortality Rate (%)\")\n",
    "\n",
    "plt.show()"
   ]
  },
  {
   "cell_type": "code",
   "execution_count": null,
   "metadata": {},
   "outputs": [],
   "source": [
    "# Find average mortility rate before and after\n",
    "# handwashing and compute difference\n",
    "before_proportion =before_washing[\"Mortality_Rate\"]\n",
    "after_proportion =after_washing[\"Mortality_Rate\"]\n",
    "mean_diff = after_proportion.mean()-before_proportion.mean()\n",
    "\n",
    "print(f'before hand washing: {before_proportion.mean()*100:.1f} percent')\n",
    "print(f'after hand washing: {after_proportion.mean()*100:.1f} percent')\n",
    "print(f'difference: {mean_diff*100:.1f} percent')"
   ]
  },
  {
   "cell_type": "code",
   "execution_count": null,
   "metadata": {},
   "outputs": [],
   "source": [
    "# Create a sample distribution of the reduction \n",
    "# in mortality rates due to handwashing\n",
    "mean_diff = []\n",
    "for i in range(3000):\n",
    "    before = before_proportion.sample(frac=1, replace=True)\n",
    "    after = after_proportion.sample(frac=1, replace=True)\n",
    "    mean_diff.append(after.mean() - before.mean())\n",
    "\n",
    "# Calculating a 95% confidence interval from mean_diff \n",
    "confidence_interval = pd.Series(mean_diff).quantile([0.025, 0.975])   \n",
    "print(f'95% confidence interval is between {confidence_interval[0.975]*100:.1f}%\\\n",
    " and {confidence_interval[0.025]*100:.1f}%')"
   ]
  }
 ],
 "metadata": {
  "kernelspec": {
   "display_name": "Python 3",
   "language": "python",
   "name": "python3"
  },
  "language_info": {
   "codemirror_mode": {
    "name": "ipython",
    "version": 3
   },
   "file_extension": ".py",
   "mimetype": "text/x-python",
   "name": "python",
   "nbconvert_exporter": "python",
   "pygments_lexer": "ipython3",
   "version": "3.8.1"
  }
 },
 "nbformat": 4,
 "nbformat_minor": 4
}
